{
  "nbformat": 4,
  "nbformat_minor": 0,
  "metadata": {
    "colab": {
      "provenance": []
    },
    "kernelspec": {
      "name": "python3",
      "display_name": "Python 3"
    }
  },
  "cells": [
    {
      "cell_type": "markdown",
      "metadata": {
        "id": "v4sFDDlCeYCA"
      },
      "source": [
        "# 6001 : [기초-출력] 출력하기01(설명)(py)"
      ]
    },
    {
      "cell_type": "code",
      "metadata": {
        "id": "Qkjq0vR8eWsA"
      },
      "source": [
        "print('Hello')"
      ],
      "execution_count": null,
      "outputs": []
    },
    {
      "cell_type": "markdown",
      "metadata": {
        "id": "tkcOJckBfLx2"
      },
      "source": [
        "# 6002 : [기초-출력] 출력하기02(설명)(py)"
      ]
    },
    {
      "cell_type": "code",
      "metadata": {
        "id": "bbbe3g44fUBa",
        "colab": {
          "base_uri": "https://localhost:8080/"
        },
        "outputId": "6382361f-1b66-4375-c2b6-3192c1091da3"
      },
      "source": [
        "print('Hello World')"
      ],
      "execution_count": null,
      "outputs": [
        {
          "output_type": "stream",
          "name": "stdout",
          "text": [
            "Hello World\n"
          ]
        }
      ]
    },
    {
      "cell_type": "markdown",
      "metadata": {
        "id": "fLYo7wwSfX0X"
      },
      "source": [
        "# 6003 : [기초-출력] 출력하기03(설명)(py)"
      ]
    },
    {
      "cell_type": "code",
      "metadata": {
        "id": "ZqlEUPoSfa2Q",
        "colab": {
          "base_uri": "https://localhost:8080/"
        },
        "outputId": "ab9f312f-7a14-4fab-a94d-f0a0c11bcc6d"
      },
      "source": [
        "print('hello')\n",
        "print('World')"
      ],
      "execution_count": null,
      "outputs": [
        {
          "output_type": "stream",
          "name": "stdout",
          "text": [
            "hello\n",
            "World\n"
          ]
        }
      ]
    },
    {
      "cell_type": "markdown",
      "metadata": {
        "id": "6nRMalqYfd7r"
      },
      "source": [
        "# 6004 : [기초-출력] 출력하기04(설명)(py)"
      ]
    },
    {
      "cell_type": "code",
      "metadata": {
        "id": "c1p3NzyofjkR",
        "colab": {
          "base_uri": "https://localhost:8080/",
          "height": 35
        },
        "outputId": "d7866a18-1e14-454f-ff9e-b08e999e4b0f"
      },
      "source": [],
      "execution_count": null,
      "outputs": [
        {
          "output_type": "stream",
          "text": [
            "'Hello'\n"
          ],
          "name": "stdout"
        }
      ]
    },
    {
      "cell_type": "markdown",
      "metadata": {
        "id": "7GuAFt2rfmfV"
      },
      "source": [
        "# 6005 : [기초-출력] 출력하기05(설명)(py)"
      ]
    },
    {
      "cell_type": "code",
      "metadata": {
        "id": "E1NRFlGHfsVo",
        "colab": {
          "base_uri": "https://localhost:8080/"
        },
        "outputId": "e511f0be-4d11-43b3-d9c8-7aef41911130"
      },
      "source": [
        "print('\"Hello World\"')"
      ],
      "execution_count": null,
      "outputs": [
        {
          "output_type": "stream",
          "name": "stdout",
          "text": [
            "\"Hello World\"\n"
          ]
        }
      ]
    },
    {
      "cell_type": "markdown",
      "metadata": {
        "id": "h2c_JjORfvX5"
      },
      "source": [
        "# 6006 : [기초-출력] 출력하기06(py)"
      ]
    },
    {
      "cell_type": "code",
      "metadata": {
        "id": "GmGRxgZLfzcU",
        "colab": {
          "base_uri": "https://localhost:8080/"
        },
        "outputId": "5cf86f66-2ce3-4db4-fd59-6cd2d78898ac"
      },
      "source": [
        "print('\"!@#$%^&*()\"')"
      ],
      "execution_count": null,
      "outputs": [
        {
          "output_type": "stream",
          "name": "stdout",
          "text": [
            "\"!@#$%^&*()\"\n"
          ]
        }
      ]
    },
    {
      "cell_type": "markdown",
      "metadata": {
        "id": "__YvsVxbf4aT"
      },
      "source": [
        "# 6007 : [기초-출력] 출력하기07(py)"
      ]
    },
    {
      "cell_type": "code",
      "metadata": {
        "id": "I0Px58Rrf6AK",
        "colab": {
          "base_uri": "https://localhost:8080/"
        },
        "outputId": "76256e01-ed7d-4fef-a0ad-0dfae5391a3e"
      },
      "source": [
        "print(\"c:\\Download\\ 'hello'.py\")"
      ],
      "execution_count": null,
      "outputs": [
        {
          "output_type": "stream",
          "name": "stdout",
          "text": [
            "c:\\Download\\ 'hello'.py\n"
          ]
        }
      ]
    },
    {
      "cell_type": "markdown",
      "metadata": {
        "id": "WmTwy_AKf9Dj"
      },
      "source": [
        "# 6008 : [기초-출력] 출력하기08(py)"
      ]
    },
    {
      "cell_type": "code",
      "source": [
        "print(\"Hello\\n\\orld\")"
      ],
      "metadata": {
        "colab": {
          "base_uri": "https://localhost:8080/"
        },
        "id": "V0c2rNPjkhFo",
        "outputId": "d3bec7b1-b45e-43bf-bca1-76c6406cc688"
      },
      "execution_count": null,
      "outputs": [
        {
          "output_type": "stream",
          "name": "stdout",
          "text": [
            "Hello\n",
            "\\orld\n"
          ]
        }
      ]
    }
  ]
}