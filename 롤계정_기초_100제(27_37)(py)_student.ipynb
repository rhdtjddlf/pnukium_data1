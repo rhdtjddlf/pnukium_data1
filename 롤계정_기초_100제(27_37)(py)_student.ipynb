{
  "nbformat": 4,
  "nbformat_minor": 0,
  "metadata": {
    "colab": {
      "provenance": []
    },
    "kernelspec": {
      "name": "python3",
      "display_name": "Python 3"
    }
  },
  "cells": [
    {
      "cell_type": "markdown",
      "metadata": {
        "id": "MBmg4OOY0tX-"
      },
      "source": [
        "# 6027 : [기초-출력변환] 10진 정수 입력받아 16진수로 출력하기1(설명)(py)"
      ]
    },
    {
      "cell_type": "code",
      "metadata": {
        "id": "EuObUIg80z_v"
      },
      "source": [],
      "execution_count": null,
      "outputs": []
    },
    {
      "cell_type": "markdown",
      "metadata": {
        "id": "BkSG1yAC6EdA"
      },
      "source": [
        "# 6028 : [기초-출력변환] 10진 정수 입력받아 16진수로 출력하기2(설명)(py)"
      ]
    },
    {
      "cell_type": "code",
      "metadata": {
        "id": "VmEcJQ7J5uR7"
      },
      "source": [],
      "execution_count": null,
      "outputs": []
    },
    {
      "cell_type": "markdown",
      "metadata": {
        "id": "CRoAAW9z6P6A"
      },
      "source": [
        "# 6029 : [기초-값변환] 16진 정수 입력받아 8진수로 출력하기(설명)(py)"
      ]
    },
    {
      "cell_type": "code",
      "metadata": {
        "id": "wqhyVSH76bLm"
      },
      "source": [],
      "execution_count": null,
      "outputs": []
    },
    {
      "cell_type": "markdown",
      "metadata": {
        "id": "1J79sCzJ6iIv"
      },
      "source": [
        "# 6030 : [기초-값변환] 영문자 1개 입력받아 10진수로 변환하기(설명)(py)"
      ]
    },
    {
      "cell_type": "code",
      "metadata": {
        "id": "JDUk8KPG6mZZ"
      },
      "source": [],
      "execution_count": null,
      "outputs": []
    },
    {
      "cell_type": "markdown",
      "metadata": {
        "id": "q6mNYTRl6sEC"
      },
      "source": [
        "# 6031 : [기초-값변환] 정수 입력받아 유니코드 문자로 변환하기(설명)(py)"
      ]
    },
    {
      "cell_type": "code",
      "metadata": {
        "id": "35Kx7dnI6xwO"
      },
      "source": [],
      "execution_count": null,
      "outputs": []
    },
    {
      "cell_type": "markdown",
      "metadata": {
        "id": "xwIffBL2618f"
      },
      "source": [
        "# 6032 : [기초-산술연산] 정수 1개 입력받아 부호 바꾸기(설명)(py)"
      ]
    },
    {
      "cell_type": "code",
      "metadata": {
        "id": "b-sUIKH966lT"
      },
      "source": [],
      "execution_count": null,
      "outputs": []
    },
    {
      "cell_type": "markdown",
      "metadata": {
        "id": "A_8f5igR7Bsj"
      },
      "source": [
        "# 6033 : [기초-산술연산] 문자 1개 입력받아 다음 문자 출력하기(설명)(py)"
      ]
    },
    {
      "cell_type": "code",
      "metadata": {
        "id": "d7euq6ov7C4_"
      },
      "source": [],
      "execution_count": null,
      "outputs": []
    },
    {
      "cell_type": "markdown",
      "metadata": {
        "id": "5P63acng7LHA"
      },
      "source": [
        "# 6034 : [기초-산술연산] 정수 2개 입력받아 차 계산하기(설명)(py)"
      ]
    },
    {
      "cell_type": "code",
      "metadata": {
        "id": "RulL9PD47Qow"
      },
      "source": [],
      "execution_count": null,
      "outputs": []
    },
    {
      "cell_type": "markdown",
      "metadata": {
        "id": "JcPcOhRs7XAu"
      },
      "source": [
        "# 6035 : [기초-산술연산] 실수 2개 입력받아 곱 계산하기(설명)(py)"
      ]
    },
    {
      "cell_type": "code",
      "metadata": {
        "id": "iT9HWAVx7YSA"
      },
      "source": [],
      "execution_count": null,
      "outputs": []
    },
    {
      "cell_type": "markdown",
      "metadata": {
        "id": "hrlmyDXo7d17"
      },
      "source": [
        "# 6035 : [기초-산술연산] 실수 2개 입력받아 곱 계산하기(설명)(py)"
      ]
    },
    {
      "cell_type": "code",
      "metadata": {
        "id": "UfyqOAl67gDO"
      },
      "source": [],
      "execution_count": null,
      "outputs": []
    },
    {
      "cell_type": "markdown",
      "metadata": {
        "id": "mc-nmlBA2Dc8"
      },
      "source": [
        "# 6036 : [기초-산술연산] 단어 여러 번 출력하기(설명)(py)"
      ]
    },
    {
      "cell_type": "code",
      "metadata": {
        "id": "8-Z0Thok2GO7"
      },
      "source": [],
      "execution_count": null,
      "outputs": []
    },
    {
      "cell_type": "markdown",
      "metadata": {
        "id": "76n_iTIV2GvK"
      },
      "source": [
        "# 6037 : [기초-산술연산] 문장 여러 번 출력하기(설명)(py)"
      ]
    },
    {
      "cell_type": "code",
      "metadata": {
        "id": "FzjDT9oc2ObF"
      },
      "source": [],
      "execution_count": null,
      "outputs": []
    }
  ]
}