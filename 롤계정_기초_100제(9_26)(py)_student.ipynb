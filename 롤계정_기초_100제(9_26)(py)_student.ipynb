{
  "nbformat": 4,
  "nbformat_minor": 0,
  "metadata": {
    "colab": {
      "provenance": []
    },
    "kernelspec": {
      "name": "python3",
      "display_name": "Python 3"
    }
  },
  "cells": [
    {
      "cell_type": "markdown",
      "metadata": {
        "id": "lF1bOoQFuduK"
      },
      "source": [
        "# 6009 : [기초-입출력] 문자 1개 입력받아 그대로 출력하기(설명)(py)"
      ]
    },
    {
      "cell_type": "code",
      "metadata": {
        "colab": {
          "base_uri": "https://localhost:8080/"
        },
        "id": "cT401Km4utBC",
        "outputId": "0072d100-f048-4d34-ce51-3645a6ae635d"
      },
      "source": [
        "a=input()\n",
        "print(a)"
      ],
      "execution_count": null,
      "outputs": [
        {
          "output_type": "stream",
          "name": "stdout",
          "text": [
            "1\n",
            "1\n"
          ]
        }
      ]
    },
    {
      "cell_type": "markdown",
      "metadata": {
        "id": "t5bmFHCMmpAR"
      },
      "source": [
        "# 6010 : [기초-입출력] 정수 1개 입력받아 int로 변환하여 출력하기(설명)(py)"
      ]
    },
    {
      "cell_type": "code",
      "metadata": {
        "id": "v23OJ_uQmfpa",
        "colab": {
          "base_uri": "https://localhost:8080/"
        },
        "outputId": "bf6501a2-0460-4818-b56b-e503c3f3fed2"
      },
      "source": [
        "print(int(input()))"
      ],
      "execution_count": null,
      "outputs": [
        {
          "output_type": "stream",
          "name": "stdout",
          "text": [
            "1\n",
            "1\n"
          ]
        }
      ]
    },
    {
      "cell_type": "markdown",
      "metadata": {
        "id": "r4b2LiREm8UP"
      },
      "source": [
        "# 6011 : [기초-입출력] 실수 1개 입력받아 변환하여 출력하기(설명)(py)"
      ]
    },
    {
      "cell_type": "code",
      "metadata": {
        "id": "iEWYiib6nBdC",
        "colab": {
          "base_uri": "https://localhost:8080/"
        },
        "outputId": "78728901-f568-4312-e525-5dcd943af6de"
      },
      "source": [
        "print(float(input()))"
      ],
      "execution_count": null,
      "outputs": [
        {
          "output_type": "stream",
          "name": "stdout",
          "text": [
            "1\n",
            "1.0\n"
          ]
        }
      ]
    },
    {
      "cell_type": "markdown",
      "metadata": {
        "id": "S96P8demnSMA"
      },
      "source": [
        "# 6012 : [기초-입출력] 정수 2개 입력받아 그대로 출력하기1(설명)(py)"
      ]
    },
    {
      "cell_type": "code",
      "metadata": {
        "id": "mXDHp0N6nXZR",
        "colab": {
          "base_uri": "https://localhost:8080/"
        },
        "outputId": "8b184e72-4d24-435f-86d4-fe5fa7b648e4"
      },
      "source": [
        "a, b = input().split()\n",
        "print(a)\n",
        "print(b)"
      ],
      "execution_count": null,
      "outputs": [
        {
          "output_type": "stream",
          "name": "stdout",
          "text": [
            "1, 2\n",
            "1,\n",
            "2\n"
          ]
        }
      ]
    },
    {
      "cell_type": "markdown",
      "metadata": {
        "id": "U02tSzPVneag"
      },
      "source": [
        "# 6013 : [기초-입출력] 문자 2개 입력받아 순서 바꿔 출력하기1(py)"
      ]
    },
    {
      "cell_type": "code",
      "metadata": {
        "id": "zUNShlyUnjli",
        "colab": {
          "base_uri": "https://localhost:8080/"
        },
        "outputId": "98013f6f-9b06-4601-a9a3-b4286466b76f"
      },
      "source": [
        "a=input()\n",
        "b=input()\n",
        "print(b)\n",
        "print(a)"
      ],
      "execution_count": null,
      "outputs": [
        {
          "output_type": "stream",
          "name": "stdout",
          "text": [
            "1\n",
            "2\n",
            "2\n",
            "1\n"
          ]
        }
      ]
    },
    {
      "cell_type": "markdown",
      "metadata": {
        "id": "jyHZ8rsSnp2I"
      },
      "source": [
        "# 6014 : [기초-입출력] 실수 1개 입력받아 3번 출력하기(py)"
      ]
    },
    {
      "cell_type": "code",
      "metadata": {
        "id": "TQpHdxPmnuA0",
        "colab": {
          "base_uri": "https://localhost:8080/"
        },
        "outputId": "becba19f-2427-402b-a6fb-57034c61deb6"
      },
      "source": [
        "a=input()\n",
        "\n",
        "print(float(a))\n",
        "print(float(a))\n",
        "print(float(a))"
      ],
      "execution_count": null,
      "outputs": [
        {
          "output_type": "stream",
          "name": "stdout",
          "text": [
            "1\n",
            "1.0\n",
            "1.0\n",
            "1.0\n"
          ]
        }
      ]
    },
    {
      "cell_type": "markdown",
      "metadata": {
        "id": "EDyqb1l9oWug"
      },
      "source": [
        "# 6015 : [기초-입출력] 정수 2개 입력받아 그대로 출력하기2(설명)(py)"
      ]
    },
    {
      "cell_type": "code",
      "metadata": {
        "id": "r4it7ZihobDw",
        "colab": {
          "base_uri": "https://localhost:8080/"
        },
        "outputId": "e8158733-9e64-4513-d96b-b0d3edef012b"
      },
      "source": [
        "a, b = input().split()\n",
        "print(a)\n",
        "print(b)"
      ],
      "execution_count": null,
      "outputs": [
        {
          "output_type": "stream",
          "name": "stdout",
          "text": [
            "a, b\n",
            "a,\n",
            "b\n"
          ]
        }
      ]
    },
    {
      "cell_type": "markdown",
      "metadata": {
        "id": "b4n0SilcogRa"
      },
      "source": [
        "# 6016 : [기초-입출력] 문자 2개 입력받아 순서 바꿔 출력하기2(설명)(py)"
      ]
    },
    {
      "cell_type": "code",
      "metadata": {
        "id": "lDNooofnOG0H",
        "colab": {
          "base_uri": "https://localhost:8080/"
        },
        "outputId": "71f57328-ee63-4567-d380-2c367608ac24"
      },
      "source": [
        "a=input()\n",
        "b=input()\n",
        "print(b)\n",
        "print(a)"
      ],
      "execution_count": null,
      "outputs": [
        {
          "output_type": "stream",
          "name": "stdout",
          "text": [
            "a\n",
            "b\n",
            "b\n",
            "a\n"
          ]
        }
      ]
    },
    {
      "cell_type": "markdown",
      "metadata": {
        "id": "-u-AanDAOOvH"
      },
      "source": [
        "# 6017 : [기초-입출력] 문장 1개 입력받아 3번 출력하기(설명)(py)"
      ]
    },
    {
      "cell_type": "code",
      "metadata": {
        "id": "9NkKXZNDOShe",
        "colab": {
          "base_uri": "https://localhost:8080/"
        },
        "outputId": "6f3b42a9-812e-4656-c1b1-9e5f5d2e9e45"
      },
      "source": [
        "a = input()\n",
        "print(a, a, a)"
      ],
      "execution_count": null,
      "outputs": [
        {
          "output_type": "stream",
          "name": "stdout",
          "text": [
            "a\n",
            "a a a\n"
          ]
        }
      ]
    },
    {
      "cell_type": "markdown",
      "metadata": {
        "id": "H9xgj_kwOdoA"
      },
      "source": [
        "# 6018 : [기초-입출력] 시간 입력받아 그대로 출력하기(설명)(py)"
      ]
    },
    {
      "cell_type": "code",
      "metadata": {
        "id": "AH4pjiguOig9",
        "colab": {
          "base_uri": "https://localhost:8080/"
        },
        "outputId": "0f9fa438-95f0-4aa8-8dfa-d8baea49a0b3"
      },
      "source": [
        "a, b=input().split(':')\n",
        "print(a, b, sep=':')"
      ],
      "execution_count": null,
      "outputs": [
        {
          "output_type": "stream",
          "name": "stdout",
          "text": [
            "2:3\n",
            "2:3\n"
          ]
        }
      ]
    },
    {
      "cell_type": "markdown",
      "metadata": {
        "id": "JYS-3BetOp-P"
      },
      "source": [
        "# 6019 : [기초-입출력] 연월일 입력받아 순서 바꿔 출력하기(py)"
      ]
    },
    {
      "cell_type": "code",
      "metadata": {
        "id": "bZwa_6C-OxOb",
        "colab": {
          "base_uri": "https://localhost:8080/"
        },
        "outputId": "4f33c9b5-f22d-4687-c8df-f2336b5728f5"
      },
      "source": [
        "y, m, d = input().split('.')\n",
        "print(d, m, y,sep='-')"
      ],
      "execution_count": null,
      "outputs": [
        {
          "output_type": "stream",
          "name": "stdout",
          "text": [
            "2007.3.2\n",
            "2-3-2007\n"
          ]
        }
      ]
    },
    {
      "cell_type": "markdown",
      "metadata": {
        "id": "iow67t1RO9bQ"
      },
      "source": [
        "# 6020 : [기초-입출력] 주민번호 입력받아 형태 바꿔 출력하기(py)"
      ]
    },
    {
      "cell_type": "code",
      "metadata": {
        "id": "og2alovePAbY",
        "colab": {
          "base_uri": "https://localhost:8080/"
        },
        "outputId": "d64bebef-e597-494e-d8c0-217945ad56cc"
      },
      "source": [
        "a, b=input().split('-')\n",
        "print(a+b)"
      ],
      "execution_count": null,
      "outputs": [
        {
          "output_type": "stream",
          "name": "stdout",
          "text": [
            "00000007-1121112\n",
            "000000071121112\n"
          ]
        }
      ]
    },
    {
      "cell_type": "markdown",
      "metadata": {
        "id": "31aUaTxpPHYk"
      },
      "source": [
        "# 6021 : [기초-입출력] 단어 1개 입력받아 나누어 출력하기(설명)(py)"
      ]
    },
    {
      "cell_type": "code",
      "metadata": {
        "id": "MOJzcNqBPNP3"
      },
      "source": [
        "s = input()\n",
        "for i in"
      ],
      "execution_count": null,
      "outputs": []
    },
    {
      "cell_type": "markdown",
      "metadata": {
        "id": "C8G5yO9xPT2G"
      },
      "source": [
        "# 6022 : [기초-입출력] 연월일 입력받아 나누어 출력하기(설명)(py)"
      ]
    },
    {
      "cell_type": "code",
      "metadata": {
        "id": "Q4IymnKzPnnO"
      },
      "source": [
        "."
      ],
      "execution_count": null,
      "outputs": []
    },
    {
      "cell_type": "markdown",
      "metadata": {
        "id": "fxYpTjerPxKh"
      },
      "source": [
        "# 6023 : [기초-입출력] 시분초 입력받아 분만 출력하기(py)"
      ]
    },
    {
      "cell_type": "code",
      "metadata": {
        "id": "opg9Yu3yPyqd"
      },
      "source": [
        "."
      ],
      "execution_count": null,
      "outputs": []
    },
    {
      "cell_type": "markdown",
      "metadata": {
        "id": "jU_1Dhl4P9JL"
      },
      "source": [
        "# 6024 : [기초-입출력] 단어 2개 입력받아 이어 붙이기(설명)(py)"
      ]
    },
    {
      "cell_type": "code",
      "metadata": {
        "id": "uLnCyb1pP-nF"
      },
      "source": [
        ".\n"
      ],
      "execution_count": null,
      "outputs": []
    },
    {
      "cell_type": "markdown",
      "metadata": {
        "id": "oPC81MQEQEZT"
      },
      "source": [
        "# 6025 : [기초-값변환] 정수 2개 입력받아 합 계산하기(설명)(py)"
      ]
    },
    {
      "cell_type": "code",
      "metadata": {
        "id": "9avPZNCNQI1b"
      },
      "source": [
        "."
      ],
      "execution_count": null,
      "outputs": []
    },
    {
      "cell_type": "markdown",
      "metadata": {
        "id": "VFpax3TaQU3K"
      },
      "source": [
        "# 6026 : [기초-값변환] 실수 2개 입력받아 합 계산하기(설명)(py)"
      ]
    },
    {
      "cell_type": "code",
      "metadata": {
        "id": "6_1MOyWzQb-t",
        "colab": {
          "base_uri": "https://localhost:8080/",
          "height": 136
        },
        "outputId": "98838a59-7a10-4f64-e880-27b50e9b1ae6"
      },
      "source": [
        "."
      ],
      "execution_count": null,
      "outputs": [
        {
          "output_type": "error",
          "ename": "SyntaxError",
          "evalue": "ignored",
          "traceback": [
            "\u001b[0;36m  File \u001b[0;32m\"<ipython-input-10-a5d5b61aa8a6>\"\u001b[0;36m, line \u001b[0;32m1\u001b[0m\n\u001b[0;31m    .\u001b[0m\n\u001b[0m    ^\u001b[0m\n\u001b[0;31mSyntaxError\u001b[0m\u001b[0;31m:\u001b[0m invalid syntax\n"
          ]
        }
      ]
    }
  ]
}